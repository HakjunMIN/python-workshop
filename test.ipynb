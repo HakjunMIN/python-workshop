{
 "cells": [
  {
   "cell_type": "code",
   "execution_count": null,
   "id": "8b607299",
   "metadata": {},
   "outputs": [
    {
     "name": "stdout",
     "output_type": "stream",
     "text": [
      "Certainly! Azure OpenAI is a service provided by Microsoft Azure that integrates OpenAI's powerful language models, such as GPT-3, into the Azure cloud platform. This enables developers and businesses to leverage advanced artificial intelligence capabilities in their applications. Here's a high-level overview of how Azure OpenAI works:\n",
      "\n",
      "### Key Components:\n",
      "\n",
      "1. **OpenAI Models**:\n",
      "   - Azure OpenAI provides access to various OpenAI models, such as GPT-3, which are capable of understanding and generating human-like\n"
     ]
    }
   ],
   "source": [
    "\n",
    "from dotenv import load_dotenv\n",
    "import os\n",
    "from openai import AzureOpenAI\n",
    "\n",
    "load_dotenv()\n",
    "\n",
    "client = AzureOpenAI(\n",
    "    api_key=os.getenv(\"AZURE_OPENAI_API_KEY\"),\n",
    "    api_version=\"2023-03-15-preview\",\n",
    "    azure_endpoint=os.getenv(\"AZURE_OPENAI_ENDPOINT\")\n",
    ")\n",
    "#\n",
    "response = client.chat.completions.create(\n",
    "    model=\"gpt-4\", \n",
    "    messages=[\n",
    "        {\"role\": \"system\", \"content\": \"You are a helpful assistant.\"},\n",
    "        {\"role\": \"user\", \"content\": \"Can you explain how Azure OpenAI works?\"}\n",
    "    ],\n",
    "    max_tokens=100,\n",
    "    temperature=0.7\n",
    ")\n",
    "\n",
    "print(response.choices[0].message.content)"
   ]
  }
 ],
 "metadata": {
  "kernelspec": {
   "display_name": ".venv",
   "language": "python",
   "name": "python3"
  },
  "language_info": {
   "codemirror_mode": {
    "name": "ipython",
    "version": 3
   },
   "file_extension": ".py",
   "mimetype": "text/x-python",
   "name": "python",
   "nbconvert_exporter": "python",
   "pygments_lexer": "ipython3",
   "version": "3.11.12"
  }
 },
 "nbformat": 4,
 "nbformat_minor": 5
}
